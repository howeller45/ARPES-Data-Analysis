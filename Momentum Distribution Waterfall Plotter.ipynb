{
 "cells": [
  {
   "cell_type": "markdown",
   "id": "5d412d35",
   "metadata": {},
   "source": [
    "# Import"
   ]
  },
  {
   "cell_type": "code",
   "execution_count": 1,
   "id": "bfa8ae78",
   "metadata": {},
   "outputs": [],
   "source": [
    "\n",
    "import os\n",
    "from pathlib import Path\n",
    "import h5py\n",
    "import pandas as pd\n",
    "import numpy as np\n",
    "import arpespythontools as arp\n",
    "import matplotlib.pyplot as plt\n",
    "from ipywidgets import widgets, Layout, interactive_output\n",
    "import astropy \n",
    "from mpl_toolkits.mplot3d import Axes3D\n",
    "import pickle\n",
    "import matplotlib.cm as cm\n",
    "import matplotlib.colors as mcolors\n",
    "from datetime import datetime\n",
    "import csv"
   ]
  },
  {
   "cell_type": "code",
   "execution_count": 2,
   "id": "eb7601d8",
   "metadata": {},
   "outputs": [
    {
     "name": "stdout",
     "output_type": "stream",
     "text": [
      "Loaded data from cache: 20230317_00029_cache.pkl\n"
     ]
    }
   ],
   "source": [
    "%run data_loader.ipynb\n",
    "\n",
    "map_data2 = map_data2\n",
    "phi = phi\n",
    "energy = energy\n",
    "theta = theta\n",
    "theta_v = theta_v\n"
   ]
  },
  {
   "cell_type": "code",
   "execution_count": 3,
   "id": "1a8f6225",
   "metadata": {},
   "outputs": [],
   "source": [
    "def angle_to_wavevector_binding(E_pho, work_f, theta, phi):\n",
    "    #CONVERTS PIXELS TO THETA\n",
    "    global theta_v\n",
    "    \n",
    "    #print(theta_v)\n",
    "    E_k = E_pho - work_f\n",
    "    k = 0.512*np.sqrt(E_k)\n",
    "    theta_rad = np.radians(theta_v)\n",
    "    phi_rad = np.radians(phi)\n",
    "    \n",
    "    #K_x and K_Y \n",
    "    k_x = k*np.sin(theta_rad)\n",
    "    k_y = k*np.sin(phi_rad)\n",
    "    \n",
    "    #k_x = np.degrees(k_x)\n",
    "    #k_y = np.degrees(k_y)\n",
    "    return k_x, k_y\n",
    "        \n",
    "    \n",
    "global k_x\n",
    "global k_y\n",
    "\n",
    "k_x, k_y = angle_to_wavevector_binding(85, 4, theta_v, phi)"
   ]
  },
  {
   "cell_type": "markdown",
   "id": "abfb63d7",
   "metadata": {},
   "source": [
    "# Variables"
   ]
  },
  {
   "cell_type": "code",
   "execution_count": 4,
   "id": "76b12c83",
   "metadata": {},
   "outputs": [],
   "source": [
    "global emin1, emax2, vmax1, k_x1, k_x2, vmax2, pmin, pmax, vmax, k_y1, k_y2\n",
    "emin1, emax2, vmax1 = -0.44, -0.41, 16226\n",
    "k_x1, k_x2, vmax2 = -1, 360, 50000\n",
    "k_y1, k_y2 = 0, 121\n",
    "pmin, pmax, vmax = -1, 2, 35480\n",
    "current_date = datetime.now().strftime(\"%Y-%m-%d\")"
   ]
  },
  {
   "cell_type": "code",
   "execution_count": 5,
   "id": "df959793",
   "metadata": {},
   "outputs": [
    {
     "name": "stdout",
     "output_type": "stream",
     "text": [
      "The dataset name is: Swept_Spectra46\n"
     ]
    }
   ],
   "source": [
    "file_path = data_file_path\n",
    "\n",
    "def get_dataset_name(file_path):\n",
    "    with h5py.File(file_path, \"r\") as h5_file:\n",
    "        if \"2D_Data\" in h5_file:\n",
    "            dataset_names = list(h5_file[\"2D_Data\"].keys())  # Extract dataset names\n",
    "            return dataset_names[0]  # Assuming you want the first dataset name\n",
    "        else:\n",
    "            return \"Group '2D_Data' not found in the file.\"\n",
    "\n",
    "dataset_name = str(get_dataset_name(file_path))\n",
    "\n",
    "print(f\"The dataset name is: {dataset_name}\")"
   ]
  },
  {
   "cell_type": "markdown",
   "id": "d6c0c9f0",
   "metadata": {},
   "source": [
    "# MDC in the k_x"
   ]
  },
  {
   "cell_type": "code",
   "execution_count": 8,
   "id": "834da17c",
   "metadata": {},
   "outputs": [
    {
     "data": {
      "application/vnd.jupyter.widget-view+json": {
       "model_id": "67e8fd1123ee492ebeb837599072b77c",
       "version_major": 2,
       "version_minor": 0
      },
      "text/plain": [
       "HBox(children=(Button(description='Add Bounds to CSV', style=ButtonStyle()), Button(description='Save Plot as …"
      ]
     },
     "metadata": {},
     "output_type": "display_data"
    },
    {
     "data": {
      "application/vnd.jupyter.widget-view+json": {
       "model_id": "414570bb35be4bd6bb4d616f781ecc0f",
       "version_major": 2,
       "version_minor": 0
      },
      "text/plain": [
       "interactive(children=(FloatSlider(value=-1.0, description='k_y1', max=1.1926381598324156, min=-1.1926381598324…"
      ]
     },
     "metadata": {},
     "output_type": "display_data"
    },
    {
     "data": {
      "text/plain": [
       "<function __main__.waterfall_plot(k_y1, k_y2, Ev_Lowerbound, Ev_Upperbound, offset, interval, k_x_min, k_x_max)>"
      ]
     },
     "metadata": {},
     "output_type": "display_data"
    }
   ],
   "source": [
    "\n",
    "\n",
    "def add_bounds_to_csv_mdc(k_y1, k_y2, Ev_Lowerbound, Ev_Upperbound, current_date):\n",
    "    global dataset_name\n",
    "    main_folder = \"ARPES Waterfall Plots\"\n",
    "    os.makedirs(main_folder, exist_ok=True)\n",
    "    \n",
    "    subfolder = os.path.join(main_folder, dataset_name)\n",
    "    os.makedirs(subfolder, exist_ok=True)\n",
    "\n",
    "    file_name = os.path.join(subfolder, f\"{dataset_name}_MDC_k_y_bounds.csv\")\n",
    "    bounds_df = pd.DataFrame({\n",
    "        \"Energy_Lowerbound\": [Ev_Lowerbound],\n",
    "        \"Energy_Upperbound\": [Ev_Upperbound],\n",
    "        \"k_y_Lowerbound\": [k_y1],\n",
    "        \"k_y_Upperbound\": [k_y2],\n",
    "        \"Date\": [current_date]\n",
    "    })\n",
    "    try:\n",
    "        bounds_df.to_csv(file_name, mode='a', header=not os.path.exists(file_name), index=False)\n",
    "        print(f\"Bounds added to {file_name}\")\n",
    "    except PermissionError:\n",
    "        print(f\"Permission denied: Unable to write to {file_name}. Please check file permissions.\")\n",
    "    except Exception as e:\n",
    "        print(f\"An error occurred: {e}\")\n",
    "\n",
    "def waterfall_plot(k_y1, k_y2, Ev_Lowerbound, Ev_Upperbound, offset, interval, k_x_min, k_x_max):\n",
    "    energies = np.arange(Ev_Lowerbound, Ev_Upperbound, interval)\n",
    "    fig = plt.figure(figsize=(8, 6))\n",
    "    ax = fig.add_subplot(111)\n",
    "    \n",
    "    for i, e in enumerate(energies):\n",
    "        surface = arp.plane_slice(map_data2, energy, e, e) \n",
    "        kx_line = arp.line_profile(surface, k_y, k_y1, k_y2)\n",
    "        if np.max(kx_line) > 0:\n",
    "            kx_line /= np.max(kx_line)\n",
    "        else:\n",
    "            kx_line = np.zeros_like(kx_line)\n",
    "        \n",
    "        mask = (k_x >= k_x_min) & (k_x <= k_x_max)\n",
    "        ax.plot(k_x[mask], kx_line[mask] + i * offset, color='green', label=f\"E = {e:.2f}\")\n",
    "    \n",
    "    ax.set_ylabel(\"Intensity (Offset)\")\n",
    "    ax.set_xlabel(\"Wavevector (k_x)\")\n",
    "    ax.set_title(\"Waterfall Plot of Constant Energy Slices\")\n",
    "    plt.close(fig)\n",
    "    return fig\n",
    "\n",
    "def save_waterfall_plot(figure):\n",
    "    global dataset_name\n",
    "    subfolder = os.path.join(\"ARPES Waterfall Plots\", dataset_name)\n",
    "    os.makedirs(subfolder, exist_ok=True)\n",
    "    \n",
    "    unique_id = f\"k_y1_{k_y1_slider.value:.2f}_k_y2_{k_y2_slider.value:.2f}_E_{Ev_Lowerbound_slider.value:.2f}_{Ev_Upperbound_slider.value:.2f}\"\n",
    "    file_name = os.path.join(subfolder, f\"{dataset_name}_MDC_{unique_id}.png\")\n",
    "    \n",
    "    figure.savefig(file_name, dpi=1200)\n",
    "    print(f\"Plot saved as {file_name}\")\n",
    "\n",
    "def waterfall_plot_save_data(k_y1, k_y2, Ev_Lowerbound, Ev_Upperbound, offset, interval, k_x_min, k_x_max):\n",
    "    global dataset_name\n",
    "    energies = np.arange(Ev_Lowerbound, Ev_Upperbound, interval)\n",
    "    data_dict = {}\n",
    "    \n",
    "    for i, e in enumerate(energies):\n",
    "        surface = arp.plane_slice(map_data2, energy, e, e)\n",
    "        kx_line = arp.line_profile(surface, k_y, k_y1, k_y2)\n",
    "        if np.max(kx_line) > 0:\n",
    "            kx_line /= np.max(kx_line)\n",
    "        else:\n",
    "            kx_line = np.zeros_like(kx_line)\n",
    "        \n",
    "        mask = (k_x >= k_x_min) & (k_x <= k_x_max)\n",
    "        data_dict[e] = list(zip(k_x[mask], kx_line[mask] + i * offset))\n",
    "    \n",
    "    max_len = max(len(v) for v in data_dict.values())\n",
    "    header = []\n",
    "    for e in sorted(data_dict.keys()):\n",
    "        header.append(f\"k_x (E={e:.2f})\")\n",
    "        header.append(f\"Intensity (E={e:.2f})\")\n",
    "    \n",
    "    formatted_data = []\n",
    "    for row_idx in range(max_len):\n",
    "        row = []\n",
    "        for e in sorted(data_dict.keys()):\n",
    "            pairs = data_dict[e]\n",
    "            if row_idx < len(pairs):\n",
    "                row.extend(pairs[row_idx])\n",
    "            else:\n",
    "                row.extend([\"\", \"\"])\n",
    "        formatted_data.append(row)\n",
    "    \n",
    "    subfolder = os.path.join(\"ARPES Waterfall Plots\", dataset_name)\n",
    "    os.makedirs(subfolder, exist_ok=True)\n",
    "    unique_id = f\"k_y1_{k_y1:.2f}_k_y2_{k_y2:.2f}_E_{Ev_Lowerbound:.2f}_{Ev_Upperbound:.2f}\"\n",
    "    csv_filename = os.path.join(subfolder, f\"{dataset_name}_MDC_{unique_id}.csv\")\n",
    "    \n",
    "    with open(csv_filename, mode='w', newline='') as file:\n",
    "        writer = csv.writer(file)\n",
    "        writer.writerow(header)\n",
    "        writer.writerows(formatted_data)\n",
    "    \n",
    "    print(f\"CSV data saved successfully to {csv_filename}\")\n",
    "\n",
    "\n",
    "# Sliders for the k_x range selection (specific to MDC waterfall plot)\n",
    "k_x_min_slider = widgets.FloatSlider(value=np.min(k_x), min=np.min(k_x), max=np.max(k_x), step=0.01, description='k_x min')\n",
    "k_x_max_slider = widgets.FloatSlider(value=np.max(k_x), min=np.min(k_x), max=np.max(k_x), step=0.01, description='k_x max')\n",
    "\n",
    "k_y1_slider = widgets.FloatSlider(value=-1, min=k_y[0], max=k_y[-1], step=0.01, description='k_y1')\n",
    "k_y2_slider = widgets.FloatSlider(value=0.5, min=k_y[0], max=k_y[-1], step=0.01, description='k_y2')\n",
    "Ev_Lowerbound_slider = widgets.FloatSlider(value=-1.22, min=energy[0], max=energy[-1], step=0.01, description='Lower Energy')\n",
    "Ev_Upperbound_slider = widgets.FloatSlider(value=-0.38, min=energy[0], max=energy[-1], step=0.01, description='Upper Energy')\n",
    "offset_slider = widgets.FloatSlider(value=0.2, min=0.01, max=2, step=0.01, description='Offset')\n",
    "interval_slider = widgets.FloatSlider(value=0.02, min=0.001, max=0.5, step=0.01, description='Interval')\n",
    "\n",
    "save_mdc_plot_button = widgets.Button(description=\"Save Plot as PNG\")\n",
    "save_mdc_plot_button.on_click(lambda _: save_waterfall_plot(waterfall_plot(\n",
    "    k_y1_slider.value, k_y2_slider.value,\n",
    "    Ev_Lowerbound_slider.value, Ev_Upperbound_slider.value,\n",
    "    offset_slider.value, interval_slider.value,\n",
    "    k_x_min_slider.value, k_x_max_slider.value\n",
    ")))\n",
    "\n",
    "\n",
    "save_mdc_csv_button = widgets.Button(description=\"Save CSV of Plot\")\n",
    "save_mdc_csv_button.on_click(lambda _: waterfall_plot_save_data(\n",
    "    k_y1_slider.value, k_y2_slider.value,\n",
    "    Ev_Lowerbound_slider.value, Ev_Upperbound_slider.value,\n",
    "    offset_slider.value, interval_slider.value,\n",
    "    k_x_min_slider.value, k_x_max_slider.value\n",
    "))\n",
    "\n",
    "add_mdc_bounds_button = widgets.Button(description=\"Add Bounds to CSV\")\n",
    "add_mdc_bounds_button.on_click(lambda _: add_bounds_to_csv_mdc(\n",
    "    k_y1_slider.value, k_y2_slider.value,\n",
    "    Ev_Lowerbound_slider.value, Ev_Upperbound_slider.value, current_date\n",
    "))\n",
    "\n",
    "display(widgets.HBox([add_mdc_bounds_button, save_mdc_plot_button, save_mdc_csv_button]))\n",
    "\n",
    "display(widgets.interact(\n",
    "    waterfall_plot,\n",
    "    k_y1=k_y1_slider,\n",
    "    k_y2=k_y2_slider,\n",
    "    Ev_Lowerbound=Ev_Lowerbound_slider,\n",
    "    Ev_Upperbound=Ev_Upperbound_slider,\n",
    "    offset=offset_slider,\n",
    "    interval=interval_slider,\n",
    "    k_x_min=k_x_min_slider,\n",
    "    k_x_max=k_x_max_slider\n",
    "))\n"
   ]
  },
  {
   "cell_type": "markdown",
   "id": "95db9746",
   "metadata": {},
   "source": [
    "# MDC in k_y"
   ]
  },
  {
   "cell_type": "code",
   "execution_count": 18,
   "id": "5a8af7a7",
   "metadata": {},
   "outputs": [
    {
     "data": {
      "application/vnd.jupyter.widget-view+json": {
       "model_id": "3a2a9329391546b5821dc5e84adf19f0",
       "version_major": 2,
       "version_minor": 0
      },
      "text/plain": [
       "HBox(children=(Button(description='Add Bounds to CSV', style=ButtonStyle()), Button(description='Save Plot as …"
      ]
     },
     "metadata": {},
     "output_type": "display_data"
    },
    {
     "data": {
      "application/vnd.jupyter.widget-view+json": {
       "model_id": "5ae301b43c4945a794dd32c24b7b8458",
       "version_major": 2,
       "version_minor": 0
      },
      "text/plain": [
       "interactive(children=(FloatSlider(value=-1.0, description='k_x1', max=4.491807287242438, min=-4.50444169591447…"
      ]
     },
     "metadata": {},
     "output_type": "display_data"
    },
    {
     "data": {
      "text/plain": [
       "<function __main__.waterfall_plot(k_x1, k_x2, Ev_Lowerbound, Ev_Upperbound, offset, interval, k_y_min, k_y_max)>"
      ]
     },
     "metadata": {},
     "output_type": "display_data"
    },
    {
     "name": "stdout",
     "output_type": "stream",
     "text": [
      "CSV data saved successfully to ARPES Waterfall Plots\\Swept_Spectra46\\Swept_Spectra46_MDC_k_x1_-1.00_k_x2_0.50_E_-1.22_-0.38.csv\n"
     ]
    }
   ],
   "source": [
    "\n",
    "\n",
    "def add_bounds_to_csv_mdc(k_x1, k_x2, Ev_Lowerbound, Ev_Upperbound, current_date):\n",
    "    global dataset_name\n",
    "    main_folder = \"ARPES Waterfall Plots\"\n",
    "    os.makedirs(main_folder, exist_ok=True)\n",
    "    \n",
    "    subfolder = os.path.join(main_folder, dataset_name)\n",
    "    os.makedirs(subfolder, exist_ok=True)\n",
    "\n",
    "    file_name = os.path.join(subfolder, f\"{dataset_name}_MDC_k_x_bounds.csv\")\n",
    "    bounds_df = pd.DataFrame({\n",
    "        \"Energy_Lowerbound\": [Ev_Lowerbound],\n",
    "        \"Energy_Upperbound\": [Ev_Upperbound],\n",
    "        \"k_x_Lowerbound\": [k_x1],\n",
    "        \"k_x_Upperbound\": [k_x2],\n",
    "        \"Date\": [current_date]\n",
    "    })\n",
    "    try:\n",
    "        bounds_df.to_csv(file_name, mode='a', header=not os.path.exists(file_name), index=False)\n",
    "        print(f\"Bounds added to {file_name}\")\n",
    "    except PermissionError:\n",
    "        print(f\"Permission denied: Unable to write to {file_name}. Please check file permissions.\")\n",
    "    except Exception as e:\n",
    "        print(f\"An error occurred: {e}\")\n",
    "\n",
    "def waterfall_plot(k_x1, k_x2, Ev_Lowerbound, Ev_Upperbound, offset, interval, k_y_min, k_y_max):\n",
    "    energies = np.arange(Ev_Lowerbound, Ev_Upperbound, interval)\n",
    "    fig = plt.figure(figsize=(8, 6))\n",
    "    ax = fig.add_subplot(111)\n",
    "\n",
    "    for i, e in enumerate(energies):\n",
    "        surface = arp.plane_slice(map_data2.transpose([0, 2, 1]), energy, e, e)  # Slice at constant energy\n",
    "        ky_line = arp.line_profile(surface, k_x, k_x1, k_x2)\n",
    "        if np.max(ky_line) > 0:\n",
    "            ky_line /= np.max(ky_line)\n",
    "        else:\n",
    "            ky_line = np.zeros_like(ky_line)\n",
    "        \n",
    "        mask = (k_y >= k_y_min) & (k_y <= k_y_max)\n",
    "        ax.plot(k_y[mask], ky_line[mask] + i * offset, color='green', label=f\"E = {e:.2f}\")\n",
    "    \n",
    "    ax.set_ylabel(\"Intensity (Offset)\")\n",
    "    ax.set_xlabel(\"Wavevector (k_y)\")\n",
    "    ax.set_title(\"Waterfall Plot of Constant Energy Slices\")\n",
    "    plt.close(fig)\n",
    "    return fig\n",
    "\n",
    "def save_waterfall_plot(figure):\n",
    "    global dataset_name\n",
    "    subfolder = os.path.join(\"ARPES Waterfall Plots\", dataset_name)\n",
    "    os.makedirs(subfolder, exist_ok=True)\n",
    "    \n",
    "    unique_id = f\"k_x1_{k_x1_slider.value:.2f}_k_x2_{k_x2_slider.value:.2f}_E_{Ev_Lowerbound_slider.value:.2f}_{Ev_Upperbound_slider.value:.2f}\"\n",
    "    file_name = os.path.join(subfolder, f\"{dataset_name}_MDC_{unique_id}.png\")\n",
    "    \n",
    "    figure.savefig(file_name, dpi=1200)\n",
    "    print(f\"Plot saved as {file_name}\")\n",
    "\n",
    "def waterfall_plot_save_data(k_x1, k_x2, Ev_Lowerbound, Ev_Upperbound, offset, interval, k_y_min, k_y_max):\n",
    "    global dataset_name\n",
    "    energies = np.arange(Ev_Lowerbound, Ev_Upperbound, interval)\n",
    "    data_dict = {}\n",
    "    \n",
    "    for i, e in enumerate(energies):\n",
    "        surface = arp.plane_slice(map_data2.transpose([0, 2, 1]), energy, e, e)\n",
    "        ky_line = arp.line_profile(surface, k_x, k_x1, k_x2)\n",
    "        if np.max(ky_line) > 0:\n",
    "            ky_line /= np.max(ky_line)\n",
    "        else:\n",
    "            ky_line = np.zeros_like(ky_line)\n",
    "        \n",
    "        mask = (k_y >= k_y_min) & (k_y <= k_y_max)\n",
    "        data_dict[e] = list(zip(k_y[mask], ky_line[mask] + i * offset))\n",
    "    \n",
    "    max_len = max(len(v) for v in data_dict.values())\n",
    "    header = []\n",
    "    for e in sorted(data_dict.keys()):\n",
    "        header.append(f\"k_y (E={e:.2f})\")\n",
    "        header.append(f\"Intensity (E={e:.2f})\")\n",
    "    \n",
    "    formatted_data = []\n",
    "    for row_idx in range(max_len):\n",
    "        row = []\n",
    "        for e in sorted(data_dict.keys()):\n",
    "            pairs = data_dict[e]\n",
    "            if row_idx < len(pairs):\n",
    "                row.extend(pairs[row_idx])\n",
    "            else:\n",
    "                row.extend([\"\", \"\"])\n",
    "        formatted_data.append(row)\n",
    "    \n",
    "    subfolder = os.path.join(\"ARPES Waterfall Plots\", dataset_name)\n",
    "    os.makedirs(subfolder, exist_ok=True)\n",
    "    unique_id = f\"k_x1_{k_x1:.2f}_k_x2_{k_x2:.2f}_E_{Ev_Lowerbound:.2f}_{Ev_Upperbound:.2f}\"\n",
    "    csv_filename = os.path.join(subfolder, f\"{dataset_name}_MDC_{unique_id}.csv\")\n",
    "    \n",
    "    with open(csv_filename, mode='w', newline='') as file:\n",
    "        writer = csv.writer(file)\n",
    "        writer.writerow(header)\n",
    "        writer.writerows(formatted_data)\n",
    "    \n",
    "    print(f\"CSV data saved successfully to {csv_filename}\")\n",
    "\n",
    "\n",
    "k_y_min_slider = widgets.FloatSlider(value=np.min(k_y), min=np.min(k_y), max=np.max(k_y), step=0.01, description='k_y min')\n",
    "k_y_max_slider = widgets.FloatSlider(value=np.max(k_y), min=np.min(k_y), max=np.max(k_y), step=0.01, description='k_y max')\n",
    "\n",
    "k_x1_slider = widgets.FloatSlider(value=-1, min=k_x[0], max=k_x[-1], step=0.01, description='k_x1')\n",
    "k_x2_slider = widgets.FloatSlider(value=0.5, min=k_x[0], max=k_x[-1], step=0.01, description='k_x2')\n",
    "Ev_Lowerbound_slider = widgets.FloatSlider(value=-1.22, min=energy[0], max=energy[-1], step=0.01, description='Lower Energy')\n",
    "Ev_Upperbound_slider = widgets.FloatSlider(value=-0.38, min=energy[0], max=energy[-1], step=0.01, description='Upper Energy')\n",
    "offset_slider = widgets.FloatSlider(value=0.2, min=0.01, max=2, step=0.01, description='Offset')\n",
    "interval_slider = widgets.FloatSlider(value=0.02, min=0.001, max=0.5, step=0.01, description='Interval')\n",
    "\n",
    "save_mdc_plot_button = widgets.Button(description=\"Save Plot as PNG\")\n",
    "save_mdc_plot_button.on_click(lambda _: save_waterfall_plot(waterfall_plot(\n",
    "    k_x1_slider.value, k_x2_slider.value,\n",
    "    Ev_Lowerbound_slider.value, Ev_Upperbound_slider.value,\n",
    "    offset_slider.value, interval_slider.value,\n",
    "    k_y_min_slider.value, k_y_max_slider.value\n",
    ")))\n",
    "\n",
    "save_mdc_csv_button = widgets.Button(description=\"Save CSV of Plot\")\n",
    "save_mdc_csv_button.on_click(lambda _: waterfall_plot_save_data(\n",
    "    k_x1_slider.value, k_x2_slider.value,\n",
    "    Ev_Lowerbound_slider.value, Ev_Upperbound_slider.value,\n",
    "    offset_slider.value, interval_slider.value,\n",
    "    k_y_min_slider.value, k_y_max_slider.value\n",
    "))\n",
    "\n",
    "add_mdc_bounds_button = widgets.Button(description=\"Add Bounds to CSV\")\n",
    "add_mdc_bounds_button.on_click(lambda _: add_bounds_to_csv_mdc(\n",
    "    k_x1_slider.value, k_x2_slider.value,\n",
    "    Ev_Lowerbound_slider.value, Ev_Upperbound_slider.value, current_date\n",
    "))\n",
    "\n",
    "display(widgets.HBox([add_mdc_bounds_button, save_mdc_plot_button, save_mdc_csv_button]))\n",
    "\n",
    "display(widgets.interact(\n",
    "    waterfall_plot,\n",
    "    k_x1=k_x1_slider,\n",
    "    k_x2=k_x2_slider,\n",
    "    Ev_Lowerbound=Ev_Lowerbound_slider,\n",
    "    Ev_Upperbound=Ev_Upperbound_slider,\n",
    "    offset=offset_slider,\n",
    "    interval=interval_slider,\n",
    "    k_y_min=k_y_min_slider,\n",
    "    k_y_max=k_y_max_slider\n",
    "))\n"
   ]
  },
  {
   "cell_type": "code",
   "execution_count": null,
   "id": "b070d8b8",
   "metadata": {},
   "outputs": [],
   "source": []
  }
 ],
 "metadata": {
  "kernelspec": {
   "display_name": "Python 3 (ipykernel)",
   "language": "python",
   "name": "python3"
  },
  "language_info": {
   "codemirror_mode": {
    "name": "ipython",
    "version": 3
   },
   "file_extension": ".py",
   "mimetype": "text/x-python",
   "name": "python",
   "nbconvert_exporter": "python",
   "pygments_lexer": "ipython3",
   "version": "3.11.5"
  }
 },
 "nbformat": 4,
 "nbformat_minor": 5
}
